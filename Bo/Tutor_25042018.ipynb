{
 "cells": [
  {
   "cell_type": "code",
   "execution_count": 136,
   "metadata": {
    "collapsed": true
   },
   "outputs": [],
   "source": [
    "# for the lecture 25042018"
   ]
  },
  {
   "cell_type": "markdown",
   "metadata": {},
   "source": [
    "1) Github:\n",
    "   - every student can pull and push \n",
    "     - different operation system\n",
    "     - GUI or command line\n",
    "     - merge & conflict?\n",
    "    \n",
    "2) Python:\n",
    "   - Anaconda: install and open a jupyter notebook \n",
    "     - PYTHONPATH?\n",
    "   - what is package: use import\n",
    "   - basic grammar: \n",
    "     - data types\n",
    "     - basic operation:\n",
    "     - data structure: array, list, dictionary etc.\n",
    "     - array & index: \n",
    "     - function: define and call a function\n",
    "     - loop and logic \n",
    "     - random\n",
    "     - plot\n",
    "     - use function from a python file\n",
    "     - load and save file: \n",
    "        - only number\n",
    "        - with text\n",
    "     \n",
    "3) basic statistics:\n",
    "   - basic distribution function: gauss, gamma etc.\n",
    "   - generate a data: uniform, gauss (np.random)\n",
    "   - statitical moment of a data (1D measures)\n",
    "   \n",
    "4) find a real data set and show some calculations ?"
   ]
  },
  {
   "cell_type": "markdown",
   "metadata": {},
   "source": [
    "website: \n",
    "\n",
    "www.google.com\n",
    "\n",
    "www.stackoverflow.com\n",
    "\n",
    "IDE:\n",
    "    - pycharm\n",
    "    - spider\n",
    "    - vs code"
   ]
  },
  {
   "cell_type": "markdown",
   "metadata": {},
   "source": [
    "1) Github:\n",
    "   - clone -> change -> commit -> push\n",
    "   - pull -> change -> commit -> push \n",
    "   - change the code, add file etc.\n",
    "   - conflict"
   ]
  },
  {
   "cell_type": "markdown",
   "metadata": {},
   "source": [
    "2) Python is arraged by packages, use import to using a needed package\n",
    "   - packages, which are included by anaconda\n",
    "   - third-party or your packages should be in PYTHONPATH"
   ]
  },
  {
   "cell_type": "code",
   "execution_count": 38,
   "metadata": {},
   "outputs": [],
   "source": [
    "# packages: numpy scipy matplotlib etc...\n",
    "import numpy as np\n",
    "\n",
    "# or \n",
    "from scipy import stats as sst"
   ]
  },
  {
   "cell_type": "code",
   "execution_count": 39,
   "metadata": {},
   "outputs": [
    {
     "name": "stdout",
     "output_type": "stream",
     "text": [
      "['', '/media/bo_xiao/3TBHD/geostat_16', '/media/bo_xiao/3TBHD/code_dev/copyla', '/media/bo_xiao/3TBHD/code_dev/work', '/media/bo_xiao/3TBHD/test_geo2017/geostats_17', '/media/bo_xiao/3TBHD/code_dev/joint_rank_sym']\n"
     ]
    }
   ],
   "source": [
    "# PYTHONPATH\n",
    "import os\n",
    "try:\n",
    "    user_paths = os.environ['PYTHONPATH'].split(os.pathsep)\n",
    "except KeyError:\n",
    "    user_paths = []\n",
    "    \n",
    "print(user_paths)"
   ]
  },
  {
   "cell_type": "markdown",
   "metadata": {},
   "source": [
    "linux: \n",
    "  - open ~/.bashrc  (for ubuntu)\n",
    "  - add export PYTHONPATH=\"$PYTHONPATH\":\"/path\"\n",
    "  \n",
    "For Windows 10/8/7:: (from stackoverflow)\n",
    "  - Open System Properties (Right click Computer in the start menu, or use the keyboard shortcut Win+Pause)\n",
    "  - Click Advanced system settings in the sidebar.\n",
    "  - Click Environment Variables...\n",
    "  - Select PATH in the System variables section\n",
    "  - Click Edit\n",
    "  - Add Python's path to the end of the list (the paths are separated by semicolons). For example:\n",
    "      C:\\Windows;C:\\Windows\\System32;C:\\Python27\n",
    "      \n",
    "For Mac OSX:\n",
    "  - open ~/.bash_profile\n",
    "  - add \n",
    "        PYTHONPATH=\"/Me/Documents/mydir:$PYTHONPATH\"\n",
    "        export PYTHONPATH"
   ]
  },
  {
   "cell_type": "markdown",
   "metadata": {},
   "source": [
    "Basic numeric type:\n",
    " - int \n",
    " - float\n",
    " - long \n",
    " - complex\n",
    " \n",
    "String"
   ]
  },
  {
   "cell_type": "code",
   "execution_count": 40,
   "metadata": {},
   "outputs": [
    {
     "name": "stdout",
     "output_type": "stream",
     "text": [
      "num1, value:  10 data type:  <class 'int'>\n",
      "num2, value:  3.0 data type:  <class 'float'>\n",
      "str3, value:  this is a string data type:  <class 'str'>\n"
     ]
    }
   ],
   "source": [
    "# basic data type: integer, float, string\n",
    "num1 = 10\n",
    "num2 = 3.0\n",
    "str3 = 'this is a string'\n",
    "\n",
    "print('num1, value: ', num1, 'data type: ', type(num1))\n",
    "print('num2, value: ', num2, 'data type: ', type(num2))\n",
    "print('str3, value: ', str3, 'data type: ', type(str3))"
   ]
  },
  {
   "cell_type": "code",
   "execution_count": 41,
   "metadata": {},
   "outputs": [
    {
     "name": "stdout",
     "output_type": "stream",
     "text": [
      "Addition 13.0\n",
      "Substraction 7.0\n",
      "Multiplication 30.0\n",
      "Division 3.3333333333333335\n",
      "Mod operation 1.0\n",
      "Exponential function 1000.0\n"
     ]
    },
    {
     "ename": "ZeroDivisionError",
     "evalue": "division by zero",
     "output_type": "error",
     "traceback": [
      "\u001b[0;31m---------------------------------------------------------------------------\u001b[0m",
      "\u001b[0;31mZeroDivisionError\u001b[0m                         Traceback (most recent call last)",
      "\u001b[0;32m<ipython-input-41-40f641c75435>\u001b[0m in \u001b[0;36m<module>\u001b[0;34m()\u001b[0m\n\u001b[1;32m      8\u001b[0m \u001b[0;34m\u001b[0m\u001b[0m\n\u001b[1;32m      9\u001b[0m \u001b[0;31m# divide zero error\u001b[0m\u001b[0;34m\u001b[0m\u001b[0;34m\u001b[0m\u001b[0m\n\u001b[0;32m---> 10\u001b[0;31m \u001b[0mprint\u001b[0m\u001b[0;34m(\u001b[0m\u001b[0;36m1\u001b[0m\u001b[0;34m/\u001b[0m\u001b[0;36m0\u001b[0m\u001b[0;34m)\u001b[0m\u001b[0;34m\u001b[0m\u001b[0m\n\u001b[0m",
      "\u001b[0;31mZeroDivisionError\u001b[0m: division by zero"
     ]
    }
   ],
   "source": [
    "# basic operations + - * / mod \n",
    "print('Addition', num1+num2)\n",
    "print('Substraction', num1-num2)\n",
    "print('Multiplication', num1*num2)\n",
    "print('Division', num1/num2)\n",
    "print('Mod operation', 10 % num2)\n",
    "print('Exponential function', num1 ** num2)\n",
    "\n",
    "# divide zero error\n",
    "print(1/0)"
   ]
  },
  {
   "cell_type": "code",
   "execution_count": 42,
   "metadata": {},
   "outputs": [
    {
     "name": "stdout",
     "output_type": "stream",
     "text": [
      "1000000000000000.0 1000000000000001.0 1e+16 1e+16\n",
      "True\n",
      "False\n"
     ]
    }
   ],
   "source": [
    "# large number\n",
    "l1 = 1e15\n",
    "l2 = l1 + 1\n",
    "l3 = 1e16\n",
    "l4 = 1e16 + 1\n",
    "\n",
    "print(l1, l2, l3, l4)\n",
    "\n",
    "print(l1 < l2)\n",
    "print(l3 < l4)"
   ]
  },
  {
   "cell_type": "markdown",
   "metadata": {},
   "source": [
    "Basic data type\n",
    " - (numpy-)Array\n",
    " - List\n",
    " - Dictionary"
   ]
  },
  {
   "cell_type": "code",
   "execution_count": 43,
   "metadata": {},
   "outputs": [
    {
     "name": "stdout",
     "output_type": "stream",
     "text": [
      "[0 1 2 3 4 5 6 7 8 9]\n",
      "(10,)\n",
      "[1 2 3 4 5 6 7 8 9]\n",
      "[1 2 3 4 5 6 7]\n",
      "[1 3 5 7]\n",
      "[9 8 7 6 5 4 3 2 1 0]\n",
      "[[0 1 2 3 4]\n",
      " [5 6 7 8 9]]\n",
      "(2, 5)\n",
      "0\n"
     ]
    },
    {
     "ename": "IndexError",
     "evalue": "index 10 is out of bounds for axis 0 with size 10",
     "output_type": "error",
     "traceback": [
      "\u001b[0;31m---------------------------------------------------------------------------\u001b[0m",
      "\u001b[0;31mIndexError\u001b[0m                                Traceback (most recent call last)",
      "\u001b[0;32m<ipython-input-43-13a164653c7a>\u001b[0m in \u001b[0;36m<module>\u001b[0;34m()\u001b[0m\n\u001b[1;32m     15\u001b[0m \u001b[0;34m\u001b[0m\u001b[0m\n\u001b[1;32m     16\u001b[0m \u001b[0mprint\u001b[0m\u001b[0;34m(\u001b[0m\u001b[0ma1\u001b[0m\u001b[0;34m[\u001b[0m\u001b[0;36m0\u001b[0m\u001b[0;34m]\u001b[0m\u001b[0;34m)\u001b[0m\u001b[0;34m\u001b[0m\u001b[0m\n\u001b[0;32m---> 17\u001b[0;31m \u001b[0mprint\u001b[0m\u001b[0;34m(\u001b[0m\u001b[0ma1\u001b[0m\u001b[0;34m[\u001b[0m\u001b[0;36m10\u001b[0m\u001b[0;34m]\u001b[0m\u001b[0;34m)\u001b[0m\u001b[0;34m\u001b[0m\u001b[0m\n\u001b[0m",
      "\u001b[0;31mIndexError\u001b[0m: index 10 is out of bounds for axis 0 with size 10"
     ]
    }
   ],
   "source": [
    "# Array: matrix like matlab\n",
    "a1 = np.arange(0, 10)\n",
    "print(a1)\n",
    "print(a1.shape)\n",
    "\n",
    "# access by using index, start from 0\n",
    "print(a1[1:])\n",
    "print(a1[1:8])\n",
    "print(a1[1:8:2])\n",
    "print(a1[-1::-1])\n",
    "\n",
    "a2 = a1.reshape((2,5))\n",
    "print(a2)\n",
    "print(a2.shape)\n",
    "\n",
    "print(a1[0])\n",
    "print(a1[10])\n"
   ]
  },
  {
   "cell_type": "code",
   "execution_count": 44,
   "metadata": {},
   "outputs": [
    {
     "name": "stdout",
     "output_type": "stream",
     "text": [
      "1e+16\n",
      "10000000000000000\n",
      "[1. 0. 0. 0. 0. 0. 0. 0. 0. 0. 0. 0. 0. 0. 0. 0. 0. 0. 0. 2.]\n"
     ]
    }
   ],
   "source": [
    "print(l3)\n",
    "l3_new = np.zeros((20))\n",
    "l3_new[0] = 1\n",
    "\n",
    "print(str_l3)\n",
    "\n",
    "# str_l3 + 1\n",
    "l3_new[-1]  = l3_new[-1] + 1\n",
    "l3_new[-1]  = l3_new[-1] + 1\n",
    "\n",
    "print(l3_new)"
   ]
  },
  {
   "cell_type": "code",
   "execution_count": 45,
   "metadata": {},
   "outputs": [
    {
     "name": "stdout",
     "output_type": "stream",
     "text": [
      "[array([0, 1, 2, 3, 4, 5, 6, 7, 8, 9]), array([[0, 1, 2, 3, 4],\n",
      "       [5, 6, 7, 8, 9]])]\n",
      "the 0 elemtn from the list is: [0 1 2 3 4 5 6 7 8 9]\n",
      "the 1 elemtn from the list is: [[0 1 2 3 4]\n",
      " [5 6 7 8 9]]\n"
     ]
    }
   ],
   "source": [
    "# list: when you dont know the size or elements with different size, elements of differnt types\n",
    "list1 = []\n",
    "list1.append(a1)\n",
    "list1.append(a2)\n",
    "\n",
    "print(list1)\n",
    "\n",
    "for ii in range(0, len(list1)):\n",
    "    tmp = list1[ii]\n",
    "    print('the %d elemtn from the list is:' %ii, tmp)"
   ]
  },
  {
   "cell_type": "code",
   "execution_count": 46,
   "metadata": {},
   "outputs": [
    {
     "name": "stdout",
     "output_type": "stream",
     "text": [
      "4999999950000000\n",
      "21.84319567680359\n"
     ]
    }
   ],
   "source": [
    "# prefer to use numpy \n",
    "import time\n",
    "\n",
    "# use numpy / matrix operation but not loop\n",
    "a = np.arange(0, 100000000)\n",
    "\n",
    "start = time.time()\n",
    "sum1 = 0\n",
    "for ii in range(0, a.shape[0]):\n",
    "    sum1 = sum1 + a[ii]\n",
    "\n",
    "print(sum1)\n",
    "end = time.time()\n",
    "print(end - start)\n"
   ]
  },
  {
   "cell_type": "code",
   "execution_count": 47,
   "metadata": {},
   "outputs": [
    {
     "name": "stdout",
     "output_type": "stream",
     "text": [
      "4999999950000000\n",
      "0.1203765869140625\n"
     ]
    }
   ],
   "source": [
    "start = time.time()\n",
    "sum2 = 0\n",
    "sum2 = np.sum(a)\n",
    "\n",
    "print(sum2)\n",
    "end = time.time()\n",
    "print(end - start)\n"
   ]
  },
  {
   "cell_type": "code",
   "execution_count": 51,
   "metadata": {},
   "outputs": [
    {
     "name": "stdout",
     "output_type": "stream",
     "text": [
      "dict['Name']:  Andy\n",
      "dict['Age']:  18\n"
     ]
    }
   ],
   "source": [
    "# dictionary\n",
    "\n",
    "npc = {'Name': 'Andy', 'Age': 18, 'level': 0}\n",
    "print(\"dict['Name']: \", npc['Name'])\n",
    "print(\"dict['Age']: \", npc['Age'])"
   ]
  },
  {
   "cell_type": "markdown",
   "metadata": {},
   "source": [
    "Definition of a function:\n",
    "  - def func_name(func_parameters):\n",
    "        operations\n",
    "        \n",
    "        return return_value        "
   ]
  },
  {
   "cell_type": "code",
   "execution_count": 52,
   "metadata": {
    "collapsed": true
   },
   "outputs": [],
   "source": [
    "#how to define a function\n",
    "\n",
    "def levelup(npc):\n",
    "    npc['level'] = npc['level'] + 1"
   ]
  },
  {
   "cell_type": "code",
   "execution_count": 53,
   "metadata": {},
   "outputs": [
    {
     "name": "stdout",
     "output_type": "stream",
     "text": [
      "1\n",
      "2\n",
      "3\n"
     ]
    }
   ],
   "source": [
    "# call a function\n",
    "\n",
    "levelup(npc)\n",
    "print(npc['level'])\n",
    "\n",
    "levelup(npc)\n",
    "print(npc['level'])\n",
    "\n",
    "levelup(npc)\n",
    "print(npc['level'])"
   ]
  },
  {
   "cell_type": "code",
   "execution_count": 54,
   "metadata": {
    "collapsed": true
   },
   "outputs": [],
   "source": [
    "def levelup_new(npc):\n",
    "    new_npc = npc.copy()\n",
    "    new_npc['level'] = new_npc['level'] + 1"
   ]
  },
  {
   "cell_type": "code",
   "execution_count": 55,
   "metadata": {},
   "outputs": [
    {
     "ename": "TypeError",
     "evalue": "'type' object is not subscriptable",
     "output_type": "error",
     "traceback": [
      "\u001b[0;31m---------------------------------------------------------------------------\u001b[0m",
      "\u001b[0;31mTypeError\u001b[0m                                 Traceback (most recent call last)",
      "\u001b[0;32m<ipython-input-55-37d58d9d34e5>\u001b[0m in \u001b[0;36m<module>\u001b[0;34m()\u001b[0m\n\u001b[1;32m      1\u001b[0m \u001b[0mlevelup_new\u001b[0m\u001b[0;34m(\u001b[0m\u001b[0mnpc\u001b[0m\u001b[0;34m)\u001b[0m\u001b[0;34m\u001b[0m\u001b[0m\n\u001b[0;32m----> 2\u001b[0;31m \u001b[0mprint\u001b[0m\u001b[0;34m(\u001b[0m\u001b[0mdict\u001b[0m\u001b[0;34m[\u001b[0m\u001b[0;34m'level'\u001b[0m\u001b[0;34m]\u001b[0m\u001b[0;34m)\u001b[0m\u001b[0;34m\u001b[0m\u001b[0m\n\u001b[0m\u001b[1;32m      3\u001b[0m \u001b[0;34m\u001b[0m\u001b[0m\n\u001b[1;32m      4\u001b[0m \u001b[0mlevelup_new\u001b[0m\u001b[0;34m(\u001b[0m\u001b[0mnpc\u001b[0m\u001b[0;34m)\u001b[0m\u001b[0;34m\u001b[0m\u001b[0m\n\u001b[1;32m      5\u001b[0m \u001b[0mprint\u001b[0m\u001b[0;34m(\u001b[0m\u001b[0mdict\u001b[0m\u001b[0;34m[\u001b[0m\u001b[0;34m'level'\u001b[0m\u001b[0;34m]\u001b[0m\u001b[0;34m)\u001b[0m\u001b[0;34m\u001b[0m\u001b[0m\n",
      "\u001b[0;31mTypeError\u001b[0m: 'type' object is not subscriptable"
     ]
    }
   ],
   "source": [
    "levelup_new(npc)\n",
    "print(dict['level'])\n",
    "\n",
    "levelup_new(npc)\n",
    "print(dict['level'])\n",
    "\n",
    "levelup_new(npc)\n",
    "print(dict['level'])"
   ]
  },
  {
   "cell_type": "code",
   "execution_count": null,
   "metadata": {
    "collapsed": true
   },
   "outputs": [],
   "source": []
  },
  {
   "cell_type": "code",
   "execution_count": 56,
   "metadata": {
    "collapsed": true
   },
   "outputs": [],
   "source": [
    "def levelup_new(npc):\n",
    "    new_npc = npc.copy()\n",
    "    new_npc['level'] = new_npc['level'] + 1\n",
    "    \n",
    "    return new_npc"
   ]
  },
  {
   "cell_type": "code",
   "execution_count": 57,
   "metadata": {},
   "outputs": [
    {
     "name": "stdout",
     "output_type": "stream",
     "text": [
      "4\n",
      "5\n",
      "6\n"
     ]
    }
   ],
   "source": [
    "npc = levelup_new(npc)\n",
    "print(npc['level'])\n",
    "\n",
    "npc = levelup_new(npc)\n",
    "print(npc['level'])\n",
    "\n",
    "npc = levelup_new(npc)\n",
    "print(npc['level'])"
   ]
  },
  {
   "cell_type": "markdown",
   "metadata": {},
   "source": [
    "Logical operation: \n",
    "  - if True:\n",
    "        do something\n",
    "    elif True\n",
    "        do something\n",
    "    else: \n",
    "        do something\n",
    "        \n",
    "        \n",
    "Loop:\n",
    "  - for iterator:\n",
    "        do something\n",
    "\n",
    "  - while true:\n",
    "        do something\n",
    "        \n",
    "  - combination with continue / break"
   ]
  },
  {
   "cell_type": "code",
   "execution_count": 58,
   "metadata": {
    "collapsed": true
   },
   "outputs": [],
   "source": [
    "npc = {'Name': 'Andy', 'Age': 18, 'level': 10, 'Key': False}"
   ]
  },
  {
   "cell_type": "code",
   "execution_count": 59,
   "metadata": {},
   "outputs": [
    {
     "name": "stdout",
     "output_type": "stream",
     "text": [
      "Andy need a key\n"
     ]
    }
   ],
   "source": [
    "def check_key(npc):\n",
    "    if npc['Key']:\n",
    "        print('%s has the key' %npc['Name'])\n",
    "    else:\n",
    "        print('%s need a key' %npc['Name'])\n",
    "        \n",
    "check_key(npc)"
   ]
  },
  {
   "cell_type": "code",
   "execution_count": 60,
   "metadata": {
    "collapsed": true
   },
   "outputs": [],
   "source": [
    "def use_cheat_code_key(your_code, npc):\n",
    "    cheat_code = 'show me the money'\n",
    "    if your_code == cheat_code:\n",
    "        npc['Key'] = True\n",
    "    else:\n",
    "        print('opppppps....')"
   ]
  },
  {
   "cell_type": "code",
   "execution_count": 61,
   "metadata": {},
   "outputs": [
    {
     "name": "stdout",
     "output_type": "stream",
     "text": [
      "Andy has the key\n"
     ]
    }
   ],
   "source": [
    "my_code = 'show me the money'\n",
    "use_cheat_code_key(my_code, npc)\n",
    "\n",
    "check_key(npc)"
   ]
  },
  {
   "cell_type": "code",
   "execution_count": 62,
   "metadata": {
    "collapsed": true
   },
   "outputs": [],
   "source": [
    "def use_cheat_code_levelup(your_code, npc):\n",
    "    cheat_code = 'we are #1'\n",
    "    if your_code == cheat_code:\n",
    "        for ii in range(0, 10):\n",
    "            npc['level'] = npc['level'] + 1\n",
    "    else:\n",
    "        print('opppppps....')\n",
    "        while(npc['Age'] < 99):\n",
    "            npc['Age'] = npc['Age'] + 1"
   ]
  },
  {
   "cell_type": "code",
   "execution_count": 63,
   "metadata": {},
   "outputs": [
    {
     "name": "stdout",
     "output_type": "stream",
     "text": [
      "10\n",
      "20\n"
     ]
    }
   ],
   "source": [
    "print(npc['level'])\n",
    "use_cheat_code_levelup('we are #1', npc)\n",
    "print(npc['level'])"
   ]
  },
  {
   "cell_type": "code",
   "execution_count": 64,
   "metadata": {},
   "outputs": [
    {
     "name": "stdout",
     "output_type": "stream",
     "text": [
      "20\n",
      "opppppps....\n",
      "20\n",
      "99\n"
     ]
    }
   ],
   "source": [
    "print(npc['level'])\n",
    "use_cheat_code_levelup('I am #1', npc)\n",
    "print(npc['level'])\n",
    "print(npc['Age'])"
   ]
  },
  {
   "cell_type": "code",
   "execution_count": 65,
   "metadata": {},
   "outputs": [
    {
     "name": "stdout",
     "output_type": "stream",
     "text": [
      "20\n"
     ]
    }
   ],
   "source": [
    "def reset_npc(npc):\n",
    "    npc = {'Name': 'Andy', 'Age': 18, 'level': 1, 'Key': False}\n",
    "    \n",
    "reset_npc(npc)\n",
    "print(npc['level'])    "
   ]
  },
  {
   "cell_type": "code",
   "execution_count": 66,
   "metadata": {
    "collapsed": true
   },
   "outputs": [],
   "source": [
    "def reset_npc(npc):\n",
    "    npc['Age'] = 18\n",
    "    npc['level'] = 1\n",
    "    npc['Key'] = False"
   ]
  },
  {
   "cell_type": "code",
   "execution_count": 67,
   "metadata": {},
   "outputs": [
    {
     "name": "stdout",
     "output_type": "stream",
     "text": [
      "1\n"
     ]
    }
   ],
   "source": [
    "reset_npc(npc)\n",
    "print(npc['level'])"
   ]
  },
  {
   "cell_type": "markdown",
   "metadata": {},
   "source": [
    "Generate random number\n",
    "    - np.random"
   ]
  },
  {
   "cell_type": "code",
   "execution_count": 68,
   "metadata": {},
   "outputs": [
    {
     "name": "stdout",
     "output_type": "stream",
     "text": [
      "[20 59 74 72 28 17 11 15 90  1]\n"
     ]
    }
   ],
   "source": [
    "num_monster = 10\n",
    "\n",
    "min_level = 0\n",
    "max_level = 100\n",
    "\n",
    "monsters = np.random.randint(min_level, max_level, num_monster)\n",
    "\n",
    "print(monsters)"
   ]
  },
  {
   "cell_type": "code",
   "execution_count": 69,
   "metadata": {
    "collapsed": true
   },
   "outputs": [],
   "source": [
    "def battle(npc, monsters):\n",
    "    battle_result = np.zeros(monsters.shape)\n",
    "    \n",
    "    for ii in range(0, monsters.shape[0]):\n",
    "        if npc['level'] >= monsters[ii]:\n",
    "            battle_result[ii] = True\n",
    "    return battle_result"
   ]
  },
  {
   "cell_type": "code",
   "execution_count": 70,
   "metadata": {},
   "outputs": [
    {
     "name": "stdout",
     "output_type": "stream",
     "text": [
      "[0. 0. 0. 0. 0. 0. 0. 0. 0. 1.]\n"
     ]
    }
   ],
   "source": [
    "battle_result = battle(npc, monsters)\n",
    "\n",
    "print(battle_result)"
   ]
  },
  {
   "cell_type": "code",
   "execution_count": 71,
   "metadata": {},
   "outputs": [
    {
     "name": "stdout",
     "output_type": "stream",
     "text": [
      "1\n",
      "11\n"
     ]
    }
   ],
   "source": [
    "print(npc['level'])\n",
    "use_cheat_code_levelup('we are #1', npc)\n",
    "print(npc['level'])"
   ]
  },
  {
   "cell_type": "code",
   "execution_count": 72,
   "metadata": {},
   "outputs": [
    {
     "name": "stdout",
     "output_type": "stream",
     "text": [
      "[0. 0. 0. 0. 0. 0. 1. 0. 0. 1.]\n"
     ]
    }
   ],
   "source": [
    "battle_result = battle(npc, monsters)\n",
    "\n",
    "print(battle_result)"
   ]
  },
  {
   "cell_type": "markdown",
   "metadata": {},
   "source": [
    "Do it by yourself:\n",
    "  - a:\n",
    "    - 1) Define a function with two parameters start_number, end_number\n",
    "    - 2) Adding from start_number to end_number and return the value\n",
    "    \n",
    "  - b: \n",
    "    - 1) Add an additional parameter is_random_number to the function\n",
    "    - 2) if is_random_number is True: generate (end_number - start_number + 1) random integers between\n",
    "         start_number and end_number\n",
    "    - 3) if is_random_number is False: the same as a)\n",
    "    - 4) compare the difference between a) and b)\n",
    "    "
   ]
  },
  {
   "cell_type": "code",
   "execution_count": 93,
   "metadata": {
    "collapsed": true
   },
   "outputs": [],
   "source": [
    "reset_npc(npc)"
   ]
  },
  {
   "cell_type": "code",
   "execution_count": 94,
   "metadata": {},
   "outputs": [
    {
     "name": "stdout",
     "output_type": "stream",
     "text": [
      "[0. 0. 0. ... 0. 0. 1.]\n"
     ]
    }
   ],
   "source": [
    "num_monster = 5000\n",
    "\n",
    "monsters = np.random.randint(0, 100, num_monster)\n",
    "battle_result = battle(npc, monsters)\n",
    "\n",
    "print(battle_result)"
   ]
  },
  {
   "cell_type": "markdown",
   "metadata": {},
   "source": [
    "Anaylysis the result\n",
    "  - statistical measures: \n",
    "    - 1D statistical measures:\n",
    "      - mean\n",
    "      - variance\n",
    "      - skewness\n",
    "      - kurtosis\n",
    "      - histogram\n",
    "      - empirical distribution function (edf)\n",
    "      - probability density function (pdf)\n",
    "      - percentage point function (ppf)\n",
    "    - lib: numpy, scipy (scipy.stats.describe), matplotlib\n",
    "  - plot the result: \n",
    "    - matplotlib"
   ]
  },
  {
   "cell_type": "code",
   "execution_count": 95,
   "metadata": {
    "collapsed": true
   },
   "outputs": [],
   "source": [
    "import matplotlib.pyplot as plt"
   ]
  },
  {
   "cell_type": "code",
   "execution_count": 96,
   "metadata": {},
   "outputs": [
    {
     "data": {
      "image/png": "[encoded data removed]",
      "text/plain": [
       "<Figure size 432x288 with 1 Axes>"
      ]
     },
     "metadata": {},
     "output_type": "display_data"
    }
   ],
   "source": [
    "plt.plot(battle_result, marker='v', linestyle = 'None')\n",
    "plt.xlabel('round [-]')\n",
    "plt.ylabel('result')\n",
    "plt.show()"
   ]
  },
  {
   "cell_type": "code",
   "execution_count": 97,
   "metadata": {},
   "outputs": [
    {
     "data": {
      "image/png": "[encoded data removed]",
      "text/plain": [
       "<Figure size 432x288 with 1 Axes>"
      ]
     },
     "metadata": {},
     "output_type": "display_data"
    }
   ],
   "source": [
    "# histogram\n",
    "plt.hist(battle_result)\n",
    "plt.xlabel('Battle result [-]')\n",
    "plt.ylabel('Frequency [-]')\n",
    "plt.show()"
   ]
  },
  {
   "cell_type": "code",
   "execution_count": 98,
   "metadata": {},
   "outputs": [
    {
     "data": {
      "image/png": "[encoded data removed]",
      "text/plain": [
       "<Figure size 432x288 with 1 Axes>"
      ]
     },
     "metadata": {},
     "output_type": "display_data"
    }
   ],
   "source": [
    "plt.hist(battle_result, density=True)\n",
    "plt.xlabel('Battle result [-]')\n",
    "plt.ylabel('Proportion [-]')\n",
    "plt.show()"
   ]
  },
  {
   "cell_type": "code",
   "execution_count": 99,
   "metadata": {},
   "outputs": [
    {
     "data": {
      "image/png": "[encoded data removed]",
      "text/plain": [
       "<Figure size 432x288 with 1 Axes>"
      ]
     },
     "metadata": {},
     "output_type": "display_data"
    }
   ],
   "source": [
    "plt.hist(monsters, density=True)\n",
    "plt.xlabel('Battle result [-]')\n",
    "plt.ylabel('Proportion [-]')\n",
    "plt.show()"
   ]
  },
  {
   "cell_type": "code",
   "execution_count": 100,
   "metadata": {},
   "outputs": [
    {
     "data": {
      "image/png": "[encoded data removed]",
      "text/plain": [
       "<Figure size 432x288 with 1 Axes>"
      ]
     },
     "metadata": {},
     "output_type": "display_data"
    }
   ],
   "source": [
    "plt.hist(monsters, density=True, label='monsters level')\n",
    "plt.vlines(ymin=0, ymax=0.015, x=npc['level'], label='npc level')\n",
    "plt.xlabel('Battle result [-]')\n",
    "plt.ylabel('Proportion [-]')\n",
    "plt.legend()\n",
    "plt.show()"
   ]
  },
  {
   "cell_type": "code",
   "execution_count": 101,
   "metadata": {
    "collapsed": true
   },
   "outputs": [],
   "source": [
    "reset_npc(npc)"
   ]
  },
  {
   "cell_type": "code",
   "execution_count": 102,
   "metadata": {},
   "outputs": [
    {
     "data": {
      "image/png": "[encoded data removed]",
      "text/plain": [
       "<Figure size 432x288 with 1 Axes>"
      ]
     },
     "metadata": {},
     "output_type": "display_data"
    },
    {
     "data": {
      "image/png": "[encoded data removed]",
      "text/plain": [
       "<Figure size 432x288 with 1 Axes>"
      ]
     },
     "metadata": {},
     "output_type": "display_data"
    }
   ],
   "source": [
    "run_num = 10\n",
    "levels = np.zeros((run_num))\n",
    "win = np.zeros((run_num))\n",
    "\n",
    "plt.hist(monsters, density=True, label='monsters level')\n",
    "\n",
    "for ii in range(0, run_num):\n",
    "    use_cheat_code_levelup('we are #1', npc)\n",
    "    battle_result = battle(npc, monsters)\n",
    "    levels[ii] = npc['level']\n",
    "    win[ii] = np.sum(battle_result) / battle_result.shape[0]\n",
    "    \n",
    "    plt.vlines(ymin=0, ymax=0.015, x=npc['level'], label='npc level %d' %npc['level'])\n",
    "    \n",
    "plt.xlabel('Battle result [-]')\n",
    "plt.ylabel('Proportion [-]')\n",
    "# plt.legend()\n",
    "plt.show()\n",
    "    \n",
    "plt.scatter(levels, win)\n",
    "plt.xlabel('npc level [-]')\n",
    "plt.ylabel('win ratio [-]')\n",
    "plt.show()\n",
    "    "
   ]
  },
  {
   "cell_type": "code",
   "execution_count": 103,
   "metadata": {},
   "outputs": [
    {
     "name": "stdout",
     "output_type": "stream",
     "text": [
      "mean:  49.6396\n",
      "variacen:  863.09971184\n",
      "833.3333333333334\n"
     ]
    }
   ],
   "source": [
    "# properties of monsters\n",
    "print('mean: ', np.mean(monsters))\n",
    "print('variacen: ', np.var(monsters))\n",
    "\n",
    "analy_var = np.square(max_level - min_level) / 12.0\n",
    "print(analy_var)"
   ]
  },
  {
   "cell_type": "code",
   "execution_count": 104,
   "metadata": {},
   "outputs": [
    {
     "data": {
      "text/plain": [
       "DescribeResult(nobs=5000, minmax=(0, 99), mean=49.6396, variance=863.2723663132626, skewness=0.00016192297059190782, kurtosis=-1.237180821268535)"
      ]
     },
     "execution_count": 104,
     "metadata": {},
     "output_type": "execute_result"
    }
   ],
   "source": [
    "sst.describe(monsters)"
   ]
  },
  {
   "cell_type": "markdown",
   "metadata": {},
   "source": [
    "Different distributions (scipy.stats):\n",
    "  - uniform distribution\n",
    "  - normal distribution\n",
    "  - gamma distribution\n",
    "  - beta distribution"
   ]
  },
  {
   "cell_type": "code",
   "execution_count": 105,
   "metadata": {},
   "outputs": [
    {
     "name": "stderr",
     "output_type": "stream",
     "text": [
      "/home/bo_xiao/anaconda3/lib/python3.5/site-packages/matplotlib/axes/_axes.py:6462: UserWarning: The 'normed' kwarg is deprecated, and has been replaced by the 'density' kwarg.\n",
      "  warnings.warn(\"The 'normed' kwarg is deprecated, and has been \"\n"
     ]
    },
    {
     "data": {
      "image/png": "[encoded data removed]",
      "text/plain": [
       "<Figure size 432x288 with 1 Axes>"
      ]
     },
     "metadata": {},
     "output_type": "display_data"
    }
   ],
   "source": [
    "loc = (max_level - min_level) / 2.0\n",
    "std_dev = 50 / 3\n",
    "\n",
    "monsters = np.random.normal(loc=loc, scale = std_dev, size=num_monster)\n",
    "plt.hist(monsters, normed=True)\n",
    "plt.show()"
   ]
  },
  {
   "cell_type": "code",
   "execution_count": 106,
   "metadata": {
    "collapsed": true
   },
   "outputs": [],
   "source": [
    "reset_npc(npc)"
   ]
  },
  {
   "cell_type": "code",
   "execution_count": 107,
   "metadata": {},
   "outputs": [
    {
     "data": {
      "image/png": "[encoded data removed]",
      "text/plain": [
       "<Figure size 432x288 with 1 Axes>"
      ]
     },
     "metadata": {},
     "output_type": "display_data"
    },
    {
     "data": {
      "image/png": "[encoded data removed]",
      "text/plain": [
       "<Figure size 432x288 with 1 Axes>"
      ]
     },
     "metadata": {},
     "output_type": "display_data"
    }
   ],
   "source": [
    "run_num = 10\n",
    "levels = np.zeros((run_num))\n",
    "win = np.zeros((run_num))\n",
    "\n",
    "plt.hist(monsters, density=True, label='monsters level')\n",
    "\n",
    "for ii in range(0, run_num):\n",
    "    use_cheat_code_levelup('we are #1', npc)\n",
    "    battle_result = battle(npc, monsters)\n",
    "    levels[ii] = npc['level']\n",
    "    win[ii] = np.sum(battle_result) / battle_result.shape[0]\n",
    "    \n",
    "    plt.vlines(ymin=0, ymax=0.025, x=npc['level'], label='npc level %d' %npc['level'])\n",
    "    \n",
    "plt.xlabel('Battle result [-]')\n",
    "plt.ylabel('Proportion [-]')\n",
    "# plt.legend()\n",
    "plt.show()\n",
    "    \n",
    "plt.scatter(levels, win)\n",
    "plt.xlabel('npc level [-]')\n",
    "plt.ylabel('win ratio [-]')\n",
    "plt.show()\n",
    "    "
   ]
  },
  {
   "cell_type": "code",
   "execution_count": 138,
   "metadata": {},
   "outputs": [
    {
     "data": {
      "image/png": "[encoded data removed]",
      "text/plain": [
       "<Figure size 432x288 with 1 Axes>"
      ]
     },
     "metadata": {},
     "output_type": "display_data"
    },
    {
     "data": {
      "image/png": "[encoded data removed]",
      "text/plain": [
       "<Figure size 432x288 with 1 Axes>"
      ]
     },
     "metadata": {},
     "output_type": "display_data"
    }
   ],
   "source": [
    "# theoretical pdf and cdf\n",
    "x = np.linspace(-10, 110, 1000)\n",
    "\n",
    "norm_cdf = sst.norm.cdf(x, loc=loc, scale=std_dev)\n",
    "norm_pdf = sst.norm.pdf(x, loc=loc, scale=std_dev)\n",
    "\n",
    "plt.plot(x, norm_cdf, label='cdf')\n",
    "plt.scatter(levels, win, label='win ratio')\n",
    "\n",
    "plt.xlabel('npc level [-]')\n",
    "plt.ylabel('cdf [-] [-]')\n",
    "plt.legend()\n",
    "plt.show()\n",
    "\n",
    "plt.plot(x, norm_pdf, label='pdf')\n",
    "plt.hist(monsters, density=True, label='monsters level')\n",
    "\n",
    "plt.xlabel('npc level [-]')\n",
    "plt.ylabel('pdf [-] [-]')\n",
    "plt.legend()\n",
    "plt.show()"
   ]
  },
  {
   "cell_type": "code",
   "execution_count": 108,
   "metadata": {
    "collapsed": true
   },
   "outputs": [],
   "source": [
    "# load file\n",
    "\n",
    "fname = './monster_levels.txt'\n",
    "np.savetxt(fname, monsters)"
   ]
  },
  {
   "cell_type": "code",
   "execution_count": 109,
   "metadata": {},
   "outputs": [
    {
     "name": "stdout",
     "output_type": "stream",
     "text": [
      "0.0\n"
     ]
    }
   ],
   "source": [
    "load_monsters = np.loadtxt(fname)\n",
    "print(np.sum(load_monsters - monsters))"
   ]
  },
  {
   "cell_type": "code",
   "execution_count": 116,
   "metadata": {},
   "outputs": [
    {
     "ename": "ValueError",
     "evalue": "could not convert string to float: 'B-W'",
     "output_type": "error",
     "traceback": [
      "\u001b[0;31m---------------------------------------------------------------------------\u001b[0m",
      "\u001b[0;31mValueError\u001b[0m                                Traceback (most recent call last)",
      "\u001b[0;32m<ipython-input-116-447a816d4344>\u001b[0m in \u001b[0;36m<module>\u001b[0;34m()\u001b[0m\n\u001b[1;32m      1\u001b[0m \u001b[0mfname\u001b[0m \u001b[0;34m=\u001b[0m \u001b[0;34m'./xy_Cl_LU.dat'\u001b[0m\u001b[0;34m\u001b[0m\u001b[0m\n\u001b[1;32m      2\u001b[0m \u001b[0;34m\u001b[0m\u001b[0m\n\u001b[0;32m----> 3\u001b[0;31m \u001b[0mdata\u001b[0m \u001b[0;34m=\u001b[0m \u001b[0mnp\u001b[0m\u001b[0;34m.\u001b[0m\u001b[0mloadtxt\u001b[0m\u001b[0;34m(\u001b[0m\u001b[0mfname\u001b[0m\u001b[0;34m)\u001b[0m\u001b[0;34m\u001b[0m\u001b[0m\n\u001b[0m\u001b[1;32m      4\u001b[0m \u001b[0mprint\u001b[0m\u001b[0;34m(\u001b[0m\u001b[0mdata\u001b[0m\u001b[0;34m.\u001b[0m\u001b[0mshape\u001b[0m\u001b[0;34m)\u001b[0m\u001b[0;34m\u001b[0m\u001b[0m\n",
      "\u001b[0;32m~/anaconda3/lib/python3.5/site-packages/numpy/lib/npyio.py\u001b[0m in \u001b[0;36mloadtxt\u001b[0;34m(fname, dtype, comments, delimiter, converters, skiprows, usecols, unpack, ndmin, encoding)\u001b[0m\n\u001b[1;32m   1090\u001b[0m         \u001b[0;31m# converting the data\u001b[0m\u001b[0;34m\u001b[0m\u001b[0;34m\u001b[0m\u001b[0m\n\u001b[1;32m   1091\u001b[0m         \u001b[0mX\u001b[0m \u001b[0;34m=\u001b[0m \u001b[0;32mNone\u001b[0m\u001b[0;34m\u001b[0m\u001b[0m\n\u001b[0;32m-> 1092\u001b[0;31m         \u001b[0;32mfor\u001b[0m \u001b[0mx\u001b[0m \u001b[0;32min\u001b[0m \u001b[0mread_data\u001b[0m\u001b[0;34m(\u001b[0m\u001b[0m_loadtxt_chunksize\u001b[0m\u001b[0;34m)\u001b[0m\u001b[0;34m:\u001b[0m\u001b[0;34m\u001b[0m\u001b[0m\n\u001b[0m\u001b[1;32m   1093\u001b[0m             \u001b[0;32mif\u001b[0m \u001b[0mX\u001b[0m \u001b[0;32mis\u001b[0m \u001b[0;32mNone\u001b[0m\u001b[0;34m:\u001b[0m\u001b[0;34m\u001b[0m\u001b[0m\n\u001b[1;32m   1094\u001b[0m                 \u001b[0mX\u001b[0m \u001b[0;34m=\u001b[0m \u001b[0mnp\u001b[0m\u001b[0;34m.\u001b[0m\u001b[0marray\u001b[0m\u001b[0;34m(\u001b[0m\u001b[0mx\u001b[0m\u001b[0;34m,\u001b[0m \u001b[0mdtype\u001b[0m\u001b[0;34m)\u001b[0m\u001b[0;34m\u001b[0m\u001b[0m\n",
      "\u001b[0;32m~/anaconda3/lib/python3.5/site-packages/numpy/lib/npyio.py\u001b[0m in \u001b[0;36mread_data\u001b[0;34m(chunk_size)\u001b[0m\n\u001b[1;32m   1017\u001b[0m \u001b[0;34m\u001b[0m\u001b[0m\n\u001b[1;32m   1018\u001b[0m             \u001b[0;31m# Convert each value according to its column and store\u001b[0m\u001b[0;34m\u001b[0m\u001b[0;34m\u001b[0m\u001b[0m\n\u001b[0;32m-> 1019\u001b[0;31m             \u001b[0mitems\u001b[0m \u001b[0;34m=\u001b[0m \u001b[0;34m[\u001b[0m\u001b[0mconv\u001b[0m\u001b[0;34m(\u001b[0m\u001b[0mval\u001b[0m\u001b[0;34m)\u001b[0m \u001b[0;32mfor\u001b[0m \u001b[0;34m(\u001b[0m\u001b[0mconv\u001b[0m\u001b[0;34m,\u001b[0m \u001b[0mval\u001b[0m\u001b[0;34m)\u001b[0m \u001b[0;32min\u001b[0m \u001b[0mzip\u001b[0m\u001b[0;34m(\u001b[0m\u001b[0mconverters\u001b[0m\u001b[0;34m,\u001b[0m \u001b[0mvals\u001b[0m\u001b[0;34m)\u001b[0m\u001b[0;34m]\u001b[0m\u001b[0;34m\u001b[0m\u001b[0m\n\u001b[0m\u001b[1;32m   1020\u001b[0m \u001b[0;34m\u001b[0m\u001b[0m\n\u001b[1;32m   1021\u001b[0m             \u001b[0;31m# Then pack it according to the dtype's nesting\u001b[0m\u001b[0;34m\u001b[0m\u001b[0;34m\u001b[0m\u001b[0m\n",
      "\u001b[0;32m~/anaconda3/lib/python3.5/site-packages/numpy/lib/npyio.py\u001b[0m in \u001b[0;36m<listcomp>\u001b[0;34m(.0)\u001b[0m\n\u001b[1;32m   1017\u001b[0m \u001b[0;34m\u001b[0m\u001b[0m\n\u001b[1;32m   1018\u001b[0m             \u001b[0;31m# Convert each value according to its column and store\u001b[0m\u001b[0;34m\u001b[0m\u001b[0;34m\u001b[0m\u001b[0m\n\u001b[0;32m-> 1019\u001b[0;31m             \u001b[0mitems\u001b[0m \u001b[0;34m=\u001b[0m \u001b[0;34m[\u001b[0m\u001b[0mconv\u001b[0m\u001b[0;34m(\u001b[0m\u001b[0mval\u001b[0m\u001b[0;34m)\u001b[0m \u001b[0;32mfor\u001b[0m \u001b[0;34m(\u001b[0m\u001b[0mconv\u001b[0m\u001b[0;34m,\u001b[0m \u001b[0mval\u001b[0m\u001b[0;34m)\u001b[0m \u001b[0;32min\u001b[0m \u001b[0mzip\u001b[0m\u001b[0;34m(\u001b[0m\u001b[0mconverters\u001b[0m\u001b[0;34m,\u001b[0m \u001b[0mvals\u001b[0m\u001b[0;34m)\u001b[0m\u001b[0;34m]\u001b[0m\u001b[0;34m\u001b[0m\u001b[0m\n\u001b[0m\u001b[1;32m   1020\u001b[0m \u001b[0;34m\u001b[0m\u001b[0m\n\u001b[1;32m   1021\u001b[0m             \u001b[0;31m# Then pack it according to the dtype's nesting\u001b[0m\u001b[0;34m\u001b[0m\u001b[0;34m\u001b[0m\u001b[0m\n",
      "\u001b[0;32m~/anaconda3/lib/python3.5/site-packages/numpy/lib/npyio.py\u001b[0m in \u001b[0;36mfloatconv\u001b[0;34m(x)\u001b[0m\n\u001b[1;32m    736\u001b[0m         \u001b[0;32mif\u001b[0m \u001b[0;34m'0x'\u001b[0m \u001b[0;32min\u001b[0m \u001b[0mx\u001b[0m\u001b[0;34m:\u001b[0m\u001b[0;34m\u001b[0m\u001b[0m\n\u001b[1;32m    737\u001b[0m             \u001b[0;32mreturn\u001b[0m \u001b[0mfloat\u001b[0m\u001b[0;34m.\u001b[0m\u001b[0mfromhex\u001b[0m\u001b[0;34m(\u001b[0m\u001b[0mx\u001b[0m\u001b[0;34m)\u001b[0m\u001b[0;34m\u001b[0m\u001b[0m\n\u001b[0;32m--> 738\u001b[0;31m         \u001b[0;32mreturn\u001b[0m \u001b[0mfloat\u001b[0m\u001b[0;34m(\u001b[0m\u001b[0mx\u001b[0m\u001b[0;34m)\u001b[0m\u001b[0;34m\u001b[0m\u001b[0m\n\u001b[0m\u001b[1;32m    739\u001b[0m \u001b[0;34m\u001b[0m\u001b[0m\n\u001b[1;32m    740\u001b[0m     \u001b[0mtyp\u001b[0m \u001b[0;34m=\u001b[0m \u001b[0mdtype\u001b[0m\u001b[0;34m.\u001b[0m\u001b[0mtype\u001b[0m\u001b[0;34m\u001b[0m\u001b[0m\n",
      "\u001b[0;31mValueError\u001b[0m: could not convert string to float: 'B-W'"
     ]
    }
   ],
   "source": [
    "fname = './xy_Cl_LU.dat'\n",
    "\n",
    "data = np.loadtxt(fname)\n",
    "print(data.shape)\n"
   ]
  },
  {
   "cell_type": "code",
   "execution_count": 127,
   "metadata": {},
   "outputs": [
    {
     "name": "stdout",
     "output_type": "stream",
     "text": [
      "\n"
     ]
    },
    {
     "data": {
      "image/png": "[encoded data removed]",
      "text/plain": [
       "<Figure size 432x288 with 1 Axes>"
      ]
     },
     "metadata": {},
     "output_type": "display_data"
    },
    {
     "name": "stdout",
     "output_type": "stream",
     "text": [
      "0.6\n",
      "1450.0\n"
     ]
    },
    {
     "data": {
      "image/png": "[encoded data removed]",
      "text/plain": [
       "<Figure size 432x288 with 1 Axes>"
      ]
     },
     "metadata": {},
     "output_type": "display_data"
    }
   ],
   "source": [
    "with open(fname) as fobj:\n",
    "    lines = fobj.readlines()[7:]\n",
    "    \n",
    "print()\n",
    "\n",
    "data = np.zeros(len(lines))\n",
    "\n",
    "for ii in range(0, len(lines)):\n",
    "    data[ii] = lines[ii].split()[2]\n",
    "    \n",
    "fobj.close()\n",
    "    \n",
    "plt.hist(data, density=True)\n",
    "plt.show()\n",
    "\n",
    "print(data.min())\n",
    "print(data.max())\n",
    "\n",
    "plt.hist(np.log10(data), density=True)\n",
    "plt.show()"
   ]
  },
  {
   "cell_type": "code",
   "execution_count": 135,
   "metadata": {},
   "outputs": [
    {
     "name": "stdout",
     "output_type": "stream",
     "text": [
      "\n"
     ]
    },
    {
     "data": {
      "image/png": "[encoded data removed]",
      "text/plain": [
       "<Figure size 432x288 with 1 Axes>"
      ]
     },
     "metadata": {},
     "output_type": "display_data"
    }
   ],
   "source": [
    "with open(fname) as fobj:\n",
    "    lines = fobj.readlines()[7:]\n",
    "    \n",
    "print()\n",
    "\n",
    "coord = np.zeros((len(lines), 2))\n",
    "\n",
    "for ii in range(0, len(lines)):\n",
    "    coord[ii, :] = lines[ii].split()[0:2]\n",
    "    \n",
    "fobj.close()\n",
    "    \n",
    "plt.scatter(coord[:, 0], coord[:, 1])\n",
    "plt.xlabel('X [m]')\n",
    "plt.ylabel('Y [m]')\n",
    "plt.show()"
   ]
  }
 ],
 "metadata": {
  "kernelspec": {
   "display_name": "Python 3",
   "language": "python",
   "name": "python3"
  },
  "language_info": {
   "codemirror_mode": {
    "name": "ipython",
    "version": 3
   },
   "file_extension": ".py",
   "mimetype": "text/x-python",
   "name": "python",
   "nbconvert_exporter": "python",
   "pygments_lexer": "ipython3",
   "version": "3.6.4"
  }
 },
 "nbformat": 4,
 "nbformat_minor": 2
}
